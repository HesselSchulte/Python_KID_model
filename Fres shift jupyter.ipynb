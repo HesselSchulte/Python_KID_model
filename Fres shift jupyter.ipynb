{
 "cells": [
  {
   "cell_type": "code",
   "execution_count": 71,
   "metadata": {},
   "outputs": [],
   "source": [
    "#Requirements:  1000 MKIDS on single readout line \n",
    "#               The bandwidth is 4-8 GHz\n",
    "#               Smallest detectable wavelength is 402 nm\n",
    "#               Q factor is constant on all frequencies\n",
    "#               \n",
    "import numpy as np\n",
    "import matplotlib.pyplot as plt\n",
    "from ipywidgets import *\n",
    "#%matplotlib widget\n",
    "import kidcalc as kc # KID model\n",
    "import SC # properties of superconducting materials"
   ]
  },
  {
   "cell_type": "code",
   "execution_count": 72,
   "metadata": {},
   "outputs": [
    {
     "name": "stdout",
     "output_type": "stream",
     "text": [
      "15\n"
     ]
    }
   ],
   "source": [
    "#Design parameters\n",
    "N_MKIDs = 1000\n",
    "N_read = int(1e3)\n",
    "f0 = 4.004e9 #Hz resonance frequency\n",
    "kbT0 = 86.17 * .1 #µeV, operating temperature of 100 mK\n",
    "hw0 = 6.582e-4*2*np.pi*f0*1e-6 #Energy inherent in KID at fres\n",
    "Qi_sat = 1e16\n",
    "Qc = 5.0e4     #Coupling quality factor\n",
    "W_ind = 4 #Inductor width in µm\n",
    "L_ind = 626 #Inductor length in µm\n",
    "d_ind = 40e-3 #Inductor film thickness is µm\n",
    "# V_ind = W_ind *L_ind * d_ind\n",
    "V_ind = 15 # µm^3 inductor volume\n",
    "\n",
    "supercond = SC.bTa() # material constants\n",
    "ak = .96 # Kinetic Inductance fraction\n",
    "beta = 2    #Thin film beta approximation\n",
    "lmbda = 402 #nm, gives the max. E for the responsivity curve\n",
    "etapb = .55 #Pair breaking efficiency \n",
    "\n",
    "print(V_ind)"
   ]
  },
  {
   "cell_type": "code",
   "execution_count": 103,
   "metadata": {},
   "outputs": [
    {
     "name": "stdout",
     "output_type": "stream",
     "text": [
      "6966.325832476297 50000.0\n"
     ]
    }
   ],
   "source": [
    "dNqp = etapb * 6.528e-4*2*np.pi* 3e8 / (lmbda * 1e-3) / supercond.D0\n",
    "Nqp0 = V_ind * kc.nqp(kbT0, supercond.D0, supercond)\n",
    "kbTeff = kc.kbTeff((Nqp0 + dNqp)/V_ind, supercond)\n",
    "\n",
    "# calculate equilibrium complex conductivity, Qi, Lk and from that C and Lg (for later fres calc)\n",
    "s10, s20 = kc.cinduct(hw0, supercond.D0, kbT0)\n",
    "Qi_Nqp0 = 2/(ak*beta) * s20/s10\n",
    "Qi0 = Qi_Nqp0 * Qi_sat / (Qi_Nqp0 + Qi_sat)  #Physical systems have limited Qi\n",
    "Q = Qc * Qi0 / (Qc + Qi0)\n",
    "Lk0 = np.imag(1/(s10-1j*s20))/(2*np.pi*f0)\n",
    "C = ak/(f0**2*Lk0)  #Capacitance from resonance freq definition, factor (2pi)^2 missing?\n",
    "Lg = Lk0*(1/ak-1)\n",
    "\n",
    "#Define frequency range of interest \n",
    "f_read_min = f0 - 8*f0/Q\n",
    "f_read_max = f0 + 4*f0/Q\n",
    "f_read = np.linspace(f_read_min, f_read_max, N_read)\n",
    "f_dis = 0.3e6\n",
    "\n",
    "print(Qi_Nqp0/1e4, Qc)"
   ]
  },
  {
   "cell_type": "code",
   "execution_count": 74,
   "metadata": {},
   "outputs": [],
   "source": [
    "#calculate complex conductivities and excess quasiparticles during pulse (between kbT0 and kbTeff)\n",
    "kbTarr = np.logspace(np.log10(kbT0), np.log10(kbTeff), N_read)\n",
    "s1, s2, exNqp = np.zeros((3, len(kbTarr)))\n",
    "for i, kbT in enumerate(kbTarr):\n",
    "    s1[i], s2[i] = kc.cinduct(hw0, supercond.D0, kbT)\n",
    "    exNqp[i] = V_ind * kc.nqp(kbT, supercond.D0, supercond)"
   ]
  },
  {
   "cell_type": "code",
   "execution_count": 104,
   "metadata": {},
   "outputs": [],
   "source": [
    "S21_0 = kc.S21(Qi0, Qc, f_read, f0) \n",
    "S21_1 = kc.S21(Qi0, Qc, f_read, f0-f_dis)\n",
    "\n",
    "Lk = np.imag(1/(s1-1j*s2))/(2*np.pi*f0)\n",
    "f_resp = 1/np.sqrt(C*(Lk + Lg))\n",
    "Qi_resp = (2*s2)/(ak*beta*s1)\n",
    "Q_resp = Qc * Qi_resp / (Qc + Qi_resp)\n",
    "\n",
    "S21_resp = kc.S21(min(Qi_resp), Qc, f_read, min(f_resp))\n",
    "S21_prod = S21_0*S21_1"
   ]
  },
  {
   "cell_type": "code",
   "execution_count": 105,
   "metadata": {},
   "outputs": [
    {
     "data": {
      "application/vnd.jupyter.widget-view+json": {
       "model_id": "3f7981d3c78842a8971ebe9ecb0e7e07",
       "version_major": 2,
       "version_minor": 0
      },
      "text/plain": [
       "interactive(children=(FloatSlider(value=8.617, description='T_eff', max=17.970187669379268, min=8.617), FloatS…"
      ]
     },
     "metadata": {},
     "output_type": "display_data"
    }
   ],
   "source": [
    "def interact_S21():\n",
    "    ## Set up the plot data\n",
    "    fig   = plt.figure(figsize=(8,3))\n",
    "    plt.plot(f_read,10*np.log10(np.abs(S21_0*S21_1)), linewidth=1, label=\"Unloaded S21\")\n",
    "    line, = plt.plot([], [], linewidth=2, label=\"Loaded S21\", color = \"indianred\")# Initialize curve to empty data.\n",
    "\n",
    "    ## Set up the figure axes, etc.\n",
    "    plt.title(\"Varying Qi\")\n",
    "    plt.xlim(min(f_read), max(f_read))\n",
    "    plt.ylim(-40, 0.1)\n",
    "    plt.xlabel('Frequency (GHz)')\n",
    "    plt.ylabel('S21 (dB)')\n",
    "    plt.legend()\n",
    "    plt.close()      # Don't show the figure yet.\n",
    "\n",
    "    ## Callback function\n",
    "    def plot_S21(kbT_slider,f_dis_slider):\n",
    "        s1_resp, s2_resp = kc.cinduct(hw0, supercond.D0, kbT_slider)\n",
    "        Lk_resp = np.imag(1/(s1_resp-1j*s2_resp))/(2*np.pi*f0)\n",
    "        f_resp = 1/np.sqrt(C*(Lk_resp + Lg))\n",
    "        Qi_resp = (2*s2_resp)/(ak*beta*s1_resp)\n",
    "        S21_resp = kc.S21(Qi_resp, Qc, f_read, f_resp)\n",
    "        S21_1_var = kc.S21(Qi0, Qc, f_read, f0-f_dis_slider)\n",
    "        line.set_data(f_read, 10*np.log10(np.abs(S21_resp*S21_1_var)))\n",
    "        display(fig)\n",
    "        \n",
    "\n",
    "    ## Generate the user interface.\n",
    "    interact(plot_S21, \n",
    "             kbT_slider=FloatSlider(min=min(kbTarr), max=1.1*max(kbTarr), step=0.1, value=kbT0, description = r\"T_eff\"),\n",
    "             f_dis_slider = FloatSlider(min =1e3 , max = f_dis, step = 1e4, value = f_dis, description = \"f_shift\"))\n",
    "\n",
    "interact_S21();\n"
   ]
  },
  {
   "cell_type": "code",
   "execution_count": 106,
   "metadata": {},
   "outputs": [
    {
     "name": "stdout",
     "output_type": "stream",
     "text": [
      "4003772823.4900517\n",
      "Highest shift: 0.22717650994825364 MHz\n",
      "-1.2930766830016442\n"
     ]
    }
   ],
   "source": [
    "for count, val in enumerate(S21_resp):\n",
    "    if np.abs(val) == min(np.abs(S21_resp)):\n",
    "        print(f_read[count])\n",
    "        print(\"Highest shift:\",(f0 - f_read[count])/1e6, \"MHz\")\n",
    "\n",
    "\n",
    "S21_0min = min(Q_resp)/min(Qi_resp)\n",
    "print(10*np.log10(np.abs(S21_0min)))"
   ]
  },
  {
   "cell_type": "code",
   "execution_count": 115,
   "metadata": {},
   "outputs": [
    {
     "data": {
      "application/vnd.jupyter.widget-view+json": {
       "model_id": "efb80a1a17634956908d40f0218be85c",
       "version_major": 2,
       "version_minor": 0
      },
      "text/plain": [
       "interactive(children=(FloatSlider(value=8.617, description='T_eff', max=17.970187669379268, min=8.617), FloatS…"
      ]
     },
     "metadata": {},
     "output_type": "display_data"
    }
   ],
   "source": [
    "def interact_circle():\n",
    "    ## Set up the plot data\n",
    "    fig   = plt.figure(figsize=(5,5))\n",
    "    # plt.plot(f_read,10*np.log10(np.abs(S21_0*S21_1)), linewidth=1, label=\"Unloaded S21\")\n",
    "    line, = plt.plot([], [], linewidth=2, label=\"Loaded S21\", color = \"indianred\")# Initialize curve to empty data.\n",
    "\n",
    "    ## Set up the figure axes, etc.\n",
    "    plt.title(\"Resonance circle\")\n",
    "    plt.xlim(0, 2)\n",
    "    plt.ylim(-1, 1)\n",
    "    plt.xlabel('Re(S21)')\n",
    "    plt.ylabel('Im(S21)')\n",
    "    plt.legend()\n",
    "    plt.close()      # Don't show the figure yet.\n",
    "\n",
    "    ## Callback function\n",
    "    def plot_circle(kbT_slider,f_dis_slider):\n",
    "        s1_resp, s2_resp = kc.cinduct(hw0, supercond.D0, kbT_slider)\n",
    "        Lk_resp = np.imag(1/(s1_resp-1j*s2_resp))/(2*np.pi*f0)\n",
    "        f_resp = 1/np.sqrt(C*(Lk_resp + Lg))\n",
    "        Qi_resp = (2*s2_resp)/(ak*beta*s1_resp)\n",
    "        S21_resp = kc.S21(Qi_resp, Qc, f_read, f_resp)\n",
    "        S21_1_var = kc.S21(Qi0, Qc, f_read, f0-f_dis_slider)\n",
    "        S21_combined = S21_resp + S21_1_var\n",
    "        line.set_data(np.real(S21_combined), np.imag(S21_combined))\n",
    "        display(fig)\n",
    "        \n",
    "\n",
    "    ## Generate the user interface.\n",
    "    interact(plot_circle, \n",
    "             kbT_slider=FloatSlider(min=min(kbTarr), max=1.1*max(kbTarr), step=0.1, value=kbT0, description = r\"T_eff\"),\n",
    "             f_dis_slider = FloatSlider(min =1e3 , max = f_dis, step = 1e4, value = f_dis, description = \"f_shift\"))\n",
    "\n",
    "interact_circle();"
   ]
  },
  {
   "cell_type": "code",
   "execution_count": 116,
   "metadata": {},
   "outputs": [
    {
     "data": {
      "image/png": "[encoded data removed]",
      "text/plain": [
       "<Figure size 640x480 with 1 Axes>"
      ]
     },
     "metadata": {},
     "output_type": "display_data"
    }
   ],
   "source": [
    "plt.close()\n",
    "plt.plot(f_read,np.imag(S21_prod))\n",
    "plt.show()"
   ]
  },
  {
   "cell_type": "code",
   "execution_count": null,
   "metadata": {},
   "outputs": [],
   "source": []
  }
 ],
 "metadata": {
  "kernelspec": {
   "display_name": "Python 3",
   "language": "python",
   "name": "python3"
  },
  "language_info": {
   "codemirror_mode": {
    "name": "ipython",
    "version": 3
   },
   "file_extension": ".py",
   "mimetype": "text/x-python",
   "name": "python",
   "nbconvert_exporter": "python",
   "pygments_lexer": "ipython3",
   "version": "3.11.8"
  }
 },
 "nbformat": 4,
 "nbformat_minor": 2
}
